{
 "cells": [
  {
   "cell_type": "markdown",
   "id": "5a739ab4-8117-451c-93bb-3075fa390df2",
   "metadata": {},
   "source": [
    "# Data Science - Final Assignment.\n",
    "# Author: Anton Thorsen 202004932"
   ]
  },
  {
   "cell_type": "markdown",
   "id": "32a92877-71e5-4397-87be-400cc664b286",
   "metadata": {},
   "source": [
    "The goal of the assignment is to implement two controllers for the _Pendulum_ environment of the _Gym_ library: a model-based controller and a model-free, neural network-based controller. Please **read carefully** the [documentation](https://gymnasium.farama.org/environments/classic_control/pendulum/) of environment before starting (focus on the state variables and controls). "
   ]
  },
  {
   "cell_type": "markdown",
   "id": "08b61d94-a10a-48f0-a0ab-5b331c66700c",
   "metadata": {},
   "source": [
    "The solution **must** be provided as a _Jupyter_ notebook, with all the cells evaluated. Use comments in the code and/or _Markdown_ cells to clarify some particular choices you took while solving the assignment (to overcome some issues or, for instance, the choice of hyperparameters to tune)."
   ]
  },
  {
   "cell_type": "markdown",
   "id": "416a5db5-b93a-4651-8555-93f677c87e03",
   "metadata": {},
   "source": [
    "For this assignment you will need to use some Python libraries. Here is a list of (potentially) useful imports:"
   ]
  },
  {
   "cell_type": "code",
   "execution_count": 1,
   "id": "65375b2f-eaff-4cce-b38e-87547f4b32fb",
   "metadata": {},
   "outputs": [
    {
     "ename": "ModuleNotFoundError",
     "evalue": "No module named 'tabulate'",
     "output_type": "error",
     "traceback": [
      "\u001b[1;31m---------------------------------------------------------------------------\u001b[0m",
      "\u001b[1;31mModuleNotFoundError\u001b[0m                       Traceback (most recent call last)",
      "Cell \u001b[1;32mIn[1], line 7\u001b[0m\n\u001b[0;32m      5\u001b[0m \u001b[38;5;28;01mimport\u001b[39;00m \u001b[38;5;21;01mtorch\u001b[39;00m\n\u001b[0;32m      6\u001b[0m \u001b[38;5;28;01mfrom\u001b[39;00m \u001b[38;5;21;01mtorch\u001b[39;00m \u001b[38;5;28;01mimport\u001b[39;00m nn\n\u001b[1;32m----> 7\u001b[0m \u001b[38;5;28;01mfrom\u001b[39;00m \u001b[38;5;21;01mskorch\u001b[39;00m \u001b[38;5;28;01mimport\u001b[39;00m NeuralNetRegressor\n\u001b[0;32m      8\u001b[0m \u001b[38;5;28;01mfrom\u001b[39;00m \u001b[38;5;21;01msklearn\u001b[39;00m\u001b[38;5;21;01m.\u001b[39;00m\u001b[38;5;21;01mpipeline\u001b[39;00m \u001b[38;5;28;01mimport\u001b[39;00m Pipeline\n\u001b[0;32m      9\u001b[0m \u001b[38;5;28;01mfrom\u001b[39;00m \u001b[38;5;21;01msklearn\u001b[39;00m\u001b[38;5;21;01m.\u001b[39;00m\u001b[38;5;21;01mpreprocessing\u001b[39;00m \u001b[38;5;28;01mimport\u001b[39;00m StandardScaler\n",
      "File \u001b[1;32m~\\anaconda3\\envs\\DataScience\\Lib\\site-packages\\skorch\\__init__.py:9\u001b[0m\n\u001b[0;32m      6\u001b[0m \u001b[38;5;28;01mimport\u001b[39;00m \u001b[38;5;21;01mimportlib\u001b[39;00m\u001b[38;5;21;01m.\u001b[39;00m\u001b[38;5;21;01mmetadata\u001b[39;00m\n\u001b[0;32m      8\u001b[0m \u001b[38;5;28;01mfrom\u001b[39;00m \u001b[38;5;21;01m.\u001b[39;00m\u001b[38;5;21;01mhistory\u001b[39;00m \u001b[38;5;28;01mimport\u001b[39;00m History\n\u001b[1;32m----> 9\u001b[0m \u001b[38;5;28;01mfrom\u001b[39;00m \u001b[38;5;21;01m.\u001b[39;00m\u001b[38;5;21;01mnet\u001b[39;00m \u001b[38;5;28;01mimport\u001b[39;00m NeuralNet\n\u001b[0;32m     10\u001b[0m \u001b[38;5;28;01mfrom\u001b[39;00m \u001b[38;5;21;01m.\u001b[39;00m\u001b[38;5;21;01mclassifier\u001b[39;00m \u001b[38;5;28;01mimport\u001b[39;00m NeuralNetClassifier\n\u001b[0;32m     11\u001b[0m \u001b[38;5;28;01mfrom\u001b[39;00m \u001b[38;5;21;01m.\u001b[39;00m\u001b[38;5;21;01mclassifier\u001b[39;00m \u001b[38;5;28;01mimport\u001b[39;00m NeuralNetBinaryClassifier\n",
      "File \u001b[1;32m~\\anaconda3\\envs\\DataScience\\Lib\\site-packages\\skorch\\net.py:24\u001b[0m\n\u001b[0;32m     21\u001b[0m \u001b[38;5;28;01mimport\u001b[39;00m \u001b[38;5;21;01mtorch\u001b[39;00m\n\u001b[0;32m     22\u001b[0m \u001b[38;5;28;01mfrom\u001b[39;00m \u001b[38;5;21;01mtorch\u001b[39;00m\u001b[38;5;21;01m.\u001b[39;00m\u001b[38;5;21;01mutils\u001b[39;00m\u001b[38;5;21;01m.\u001b[39;00m\u001b[38;5;21;01mdata\u001b[39;00m \u001b[38;5;28;01mimport\u001b[39;00m DataLoader\n\u001b[1;32m---> 24\u001b[0m \u001b[38;5;28;01mfrom\u001b[39;00m \u001b[38;5;21;01mskorch\u001b[39;00m\u001b[38;5;21;01m.\u001b[39;00m\u001b[38;5;21;01mcallbacks\u001b[39;00m \u001b[38;5;28;01mimport\u001b[39;00m EpochTimer\n\u001b[0;32m     25\u001b[0m \u001b[38;5;28;01mfrom\u001b[39;00m \u001b[38;5;21;01mskorch\u001b[39;00m\u001b[38;5;21;01m.\u001b[39;00m\u001b[38;5;21;01mcallbacks\u001b[39;00m \u001b[38;5;28;01mimport\u001b[39;00m PrintLog\n\u001b[0;32m     26\u001b[0m \u001b[38;5;28;01mfrom\u001b[39;00m \u001b[38;5;21;01mskorch\u001b[39;00m\u001b[38;5;21;01m.\u001b[39;00m\u001b[38;5;21;01mcallbacks\u001b[39;00m \u001b[38;5;28;01mimport\u001b[39;00m PassthroughScoring\n",
      "File \u001b[1;32m~\\anaconda3\\envs\\DataScience\\Lib\\site-packages\\skorch\\callbacks\\__init__.py:10\u001b[0m\n\u001b[0;32m      7\u001b[0m \u001b[38;5;66;03m# pylint: disable=wildcard-import\u001b[39;00m\n\u001b[0;32m      9\u001b[0m \u001b[38;5;28;01mfrom\u001b[39;00m \u001b[38;5;21;01m.\u001b[39;00m\u001b[38;5;21;01mbase\u001b[39;00m \u001b[38;5;28;01mimport\u001b[39;00m \u001b[38;5;241m*\u001b[39m\n\u001b[1;32m---> 10\u001b[0m \u001b[38;5;28;01mfrom\u001b[39;00m \u001b[38;5;21;01m.\u001b[39;00m\u001b[38;5;21;01mlogging\u001b[39;00m \u001b[38;5;28;01mimport\u001b[39;00m \u001b[38;5;241m*\u001b[39m\n\u001b[0;32m     11\u001b[0m \u001b[38;5;28;01mfrom\u001b[39;00m \u001b[38;5;21;01m.\u001b[39;00m\u001b[38;5;21;01mregularization\u001b[39;00m \u001b[38;5;28;01mimport\u001b[39;00m \u001b[38;5;241m*\u001b[39m\n\u001b[0;32m     12\u001b[0m \u001b[38;5;28;01mfrom\u001b[39;00m \u001b[38;5;21;01m.\u001b[39;00m\u001b[38;5;21;01mscoring\u001b[39;00m \u001b[38;5;28;01mimport\u001b[39;00m \u001b[38;5;241m*\u001b[39m\n",
      "File \u001b[1;32m~\\anaconda3\\envs\\DataScience\\Lib\\site-packages\\skorch\\callbacks\\logging.py:13\u001b[0m\n\u001b[0;32m     11\u001b[0m \u001b[38;5;28;01mimport\u001b[39;00m \u001b[38;5;21;01mnumpy\u001b[39;00m \u001b[38;5;28;01mas\u001b[39;00m \u001b[38;5;21;01mnp\u001b[39;00m\n\u001b[0;32m     12\u001b[0m \u001b[38;5;28;01mimport\u001b[39;00m \u001b[38;5;21;01mtqdm\u001b[39;00m\n\u001b[1;32m---> 13\u001b[0m \u001b[38;5;28;01mfrom\u001b[39;00m \u001b[38;5;21;01mtabulate\u001b[39;00m \u001b[38;5;28;01mimport\u001b[39;00m tabulate\n\u001b[0;32m     15\u001b[0m \u001b[38;5;28;01mfrom\u001b[39;00m \u001b[38;5;21;01mskorch\u001b[39;00m\u001b[38;5;21;01m.\u001b[39;00m\u001b[38;5;21;01mutils\u001b[39;00m \u001b[38;5;28;01mimport\u001b[39;00m Ansi\n\u001b[0;32m     16\u001b[0m \u001b[38;5;28;01mfrom\u001b[39;00m \u001b[38;5;21;01mskorch\u001b[39;00m\u001b[38;5;21;01m.\u001b[39;00m\u001b[38;5;21;01mdataset\u001b[39;00m \u001b[38;5;28;01mimport\u001b[39;00m get_len\n",
      "\u001b[1;31mModuleNotFoundError\u001b[0m: No module named 'tabulate'"
     ]
    }
   ],
   "source": [
    "import numpy as np\n",
    "import gymnasium as gym\n",
    "import matplotlib.pyplot as plt\n",
    "import pygmo as pg\n",
    "import torch\n",
    "from torch import nn\n",
    "from skorch import NeuralNetRegressor\n",
    "from sklearn.pipeline import Pipeline\n",
    "from sklearn.preprocessing import StandardScaler\n",
    "from sklearn.model_selection import GridSearchCV, train_test_split"
   ]
  },
  {
   "cell_type": "markdown",
   "id": "65567dd5-8ee2-4d5e-a59d-168211b1cc42",
   "metadata": {},
   "source": [
    "## Part 1: Model Predictive Control"
   ]
  },
  {
   "cell_type": "markdown",
   "id": "a8180829-7622-4339-9984-d4481a35cbfd",
   "metadata": {},
   "source": [
    "Implement a model-based controller that uses the Model Predictive Control (MPC) theory (see the slides in the _Genetic Algorithm_ set in the repo of the course) to **stabilize the pendulum in its upright position** ($\\theta = 0$, $\\omega = 0$). Please set the **gravity equal to 9.81** using the `g` argument of the `Pendulum-v1` environment. In general, you should follow these steps:\n",
    "\n",
    "1. Define the _cost_ function associated to the MPC: it must include the cost associated to the difference between the state of the system and the setpoints for the angle and the angular velocity. For the prediction of the future states, create another _Pendulum_ environment called `env_mpc` (separate from the one `main_env` that the controller is interacting with) and every time the cost function is evaluated initialize its state with the current state of the main environment using the following instruction: `env_mpc.unwrapped.state = main_env.unwrapped.state`. The main environment `main_env` should be passed as a parameter to the cost function.\n",
    "2. Define a function to play a \"game\" using a controller chosen by the user among the following: 1) MPC; 2) random; 3) Neural Network (see Part 2). The _initial conditions_ (angle and angular velocity) should be passed as parameters to this function and set appropriately at the beginning of the game using the `env.unwrapped.state` variable. For the MPC controller, at each time step an optimization problem must be solved that minimizes the cost function defined in Step 1 with respect to the control sequence (over the control horizon). The appropriate action should then be taken. Remember that the control variable has some bounds... The function should store and return the lists of _observations_ and corresponding _controls_ and the _total score_ associated to the game.\n",
    "3. Play _a few_ games with _random_ initial conditions (angle between -20 and +20 degrees and angular velocity between -0.1 and 0.1 rad/s) and compute the _average total score_. **You should get a total score above -10, at least in some games.** For one game, plot the angle and the angular velocity as a function of time, and the controls in a separate figure."
   ]
  },
  {
   "cell_type": "markdown",
   "id": "a85bcee2-e50d-4f54-ad1f-ec8d20d261b6",
   "metadata": {},
   "source": [
    "Initializing the environment:"
   ]
  },
  {
   "cell_type": "code",
   "execution_count": 2,
   "id": "e7d8d5f9-024f-40fb-8b61-deb703e16c63",
   "metadata": {},
   "outputs": [],
   "source": [
    "main_env = gym.make('Pendulum-v1',g=9.81)\n",
    "\n",
    "horizon = 10 #horizon = 5, gen=4 and population; size = 10 leads to OK results at decent computations times "
   ]
  },
  {
   "cell_type": "markdown",
   "id": "986fa282-3b05-442f-9e42-3189bd118a08",
   "metadata": {},
   "source": [
    "Defining the cost function:"
   ]
  },
  {
   "cell_type": "code",
   "execution_count": 3,
   "id": "a8c4e80b-b01c-4868-9d3c-84fb7a084832",
   "metadata": {},
   "outputs": [],
   "source": [
    "def cost_function(params, action, horizon):    \n",
    "    env_mpc = gym.make('Pendulum-v1', g=9.81)\n",
    "    state,_ = env_mpc.reset()\n",
    "    env_mpc.unwrapped.state = params #main_env.unwrapped.state\n",
    "    \n",
    "    weight_theta = 0.1\n",
    "    weight_omega = 0.1  \n",
    "    weight_action = 0.001  \n",
    "    theta_setpoint = 0\n",
    "    omega_setpoint = 0  \n",
    "    cost = 0\n",
    "    for act in action: #runs 10 times because horizon=10\n",
    "        obs, _, _, _,_ = env_mpc.step([act])\n",
    "        cos_theta, sin_theta, omega = obs        #The observation space is x, y and omega\n",
    "        theta = np.arctan2(sin_theta, cos_theta) #theta is needed, not x or y\n",
    "        cost += weight_theta * ((theta - theta_setpoint)**2 + weight_omega * (omega - omega_setpoint) ** 2 + weight_action * act ** 2)\n",
    "    return cost"
   ]
  },
  {
   "cell_type": "markdown",
   "id": "43fddd38-6000-40ef-958c-57b398abdb0c",
   "metadata": {},
   "source": [
    "Defining the tuning class:"
   ]
  },
  {
   "cell_type": "code",
   "execution_count": 4,
   "id": "724b4495-ae4d-4e02-b431-94c370ca23aa",
   "metadata": {},
   "outputs": [],
   "source": [
    "class MPC_tuning:\n",
    "    def __init__(self,params,horizon):\n",
    "        self.params = params\n",
    "        self.horizon = horizon\n",
    "        \n",
    "    def fitness(self, action):\n",
    "        cost = cost_function(self.params, action, self.horizon) #this cost is computed 500 times at 30x30 gen pop, and 100 times if 10x10 gen pop\n",
    "        return [cost]\n",
    "\n",
    "    def get_bounds(self):\n",
    "        return ([-2.]*self.horizon, [2.]*self.horizon) #Defines the bounds of the action [Torque]"
   ]
  },
  {
   "cell_type": "markdown",
   "id": "eb7fb659-a741-4328-933d-5dd952d070ff",
   "metadata": {},
   "source": [
    "Defining the function used to a play a single game with a controller of choice:"
   ]
  },
  {
   "cell_type": "code",
   "execution_count": 5,
   "id": "106a5ba7-2502-4f32-8295-73391336e449",
   "metadata": {},
   "outputs": [],
   "source": [
    "def play_game(initial_state, env, controller, printing=False, model=None):\n",
    "    terminated = False\n",
    "    truncated = False\n",
    "    state, _ = env.reset()\n",
    "    env.unwrapped.state = initial_state  #Initializing the state\n",
    "    \n",
    "    observations = []\n",
    "    controls = []\n",
    "    total_score = 0\n",
    "    counter = 0  \n",
    "    prev_obs = initial_state\n",
    "    #horizon = 5 #unnecessary\n",
    "    \n",
    "    while not (terminated or truncated):\n",
    "        if controller == \"RANDOM\":\n",
    "            action = env.action_space.sample()[0]\n",
    "        \n",
    "        elif controller == \"MPC\":\n",
    "            prob = pg.problem(MPC_tuning(prev_obs, horizon))\n",
    "            algo = pg.algorithm(pg.sga(gen=10)) #Simple genetic algorithm\n",
    "            pop = pg.population(prob, size=10)\n",
    "            pop = algo.evolve(pop)           \n",
    "            best_controls = pop.champion_x     #Finding best controls\n",
    "            action = best_controls[0]\n",
    "            \n",
    "        elif controller == \"NN\":\n",
    "                x_obs = np.cos(prev_obs[0])\n",
    "                y_obs = np.sin(prev_obs[0])\n",
    "                prev_obs_NN = torch.tensor([x_obs,y_obs,prev_obs[1]],dtype=torch.float32)\n",
    "                prev_obs_NN = prev_obs_NN.reshape(1,-1)\n",
    "                #prev_obs_NN = torch.tensor([prev_obs])\n",
    "                action = model.predict(prev_obs_NN).item()\n",
    "\n",
    "        controls.append(action)\n",
    "        obs, reward, terminated, truncated, _ = env.step([action])\n",
    "        theta = np.arctan2(obs[1],obs[0])\n",
    "        omega = obs[2]\n",
    "        obs = [theta,omega]\n",
    "        observations.append(obs)\n",
    "        prev_obs = obs #Need it to be a [3,] array not a [3,1] for prev_obs to be the correct shape for action = model.predict(prev_obs).item()\n",
    "        total_score += reward\n",
    "        \n",
    "        if printing == True: #If desired the duration of the interation can be followed\n",
    "            counter += 1\n",
    "            if counter % 100 == 0:\n",
    "                print(f'Iteration: {counter}/200 max')\n",
    "    return observations, controls, total_score"
   ]
  },
  {
   "cell_type": "markdown",
   "id": "d438a05c-8d84-4688-ac59-70dee01078a5",
   "metadata": {},
   "source": [
    "Defining a play function to play multiple games:"
   ]
  },
  {
   "cell_type": "code",
   "execution_count": 6,
   "id": "c2a5e742-f047-4fb5-aadc-12a84522ff0d",
   "metadata": {},
   "outputs": [],
   "source": [
    "def play_X_games(num_games, controller, env, printing = False, model = None):\n",
    "    scores = []\n",
    "    obs = []\n",
    "    action = []\n",
    "    if controller == 'MPC':\n",
    "        print('Controller: MPC')\n",
    "    elif controller == 'RANDOM':\n",
    "        print('Controller: RANDOM')\n",
    "    elif controller =='NN':\n",
    "        print('Controller: NN')\n",
    "    for i in range(num_games):\n",
    "        initial_conditions = [np.random.uniform(-20*np.pi/180, 20*np.pi/180), np.random.uniform(-0.1, 0.1)]\n",
    "        if printing == True:\n",
    "            print(f'Game no. {i+1}/{num_games} ')\n",
    "        observations, controls, total_score = play_game(initial_conditions, env, controller, printing, model) #Calling the play_game function\n",
    "        scores.append(total_score)\n",
    "        obs.append(observations)\n",
    "        action.append(controls)\n",
    "        if printing == True:\n",
    "            print()\n",
    "    if printing == True:\n",
    "        print(f'Scores from {num_games} games: \\n{np.around(np.array(scores), decimals=4)} \\n')\n",
    "    print(f'Average Score [{controller}]: {np.sum(scores)/num_games:.4f}\\n')\n",
    "    return obs, action, scores"
   ]
  },
  {
   "cell_type": "markdown",
   "id": "3c708b30-fe35-4108-94c8-07339a0a4c85",
   "metadata": {},
   "source": [
    "The function for generated training data is created. About 2000 sets of observations+actions should be sufficient: Note that the generation size is smaller than for the play_game function to lessen the computation time. This does cause the occasional bad game-score but it is, however, still sufficiently accurate for most games and the function filters away the bad scores:"
   ]
  },
  {
   "cell_type": "code",
   "execution_count": 7,
   "id": "2efec43d-3263-4521-94ff-345f4c38522c",
   "metadata": {},
   "outputs": [],
   "source": [
    "def generate_training_data(num_games, env, printing = False):\n",
    "    training_data = []\n",
    "    counter = 0\n",
    "    for i in range(num_games):\n",
    "        score = 0\n",
    "        initial_cond = [np.random.uniform(-20*np.pi/180, 20*np.pi/180), np.random.uniform(-0.1, 0.1)]\n",
    "        state, _ = env.reset()\n",
    "        env.unwrapped.state = initial_cond\n",
    "        game_memory = []\n",
    "        prev_obs = initial_cond\n",
    "        terminated = False\n",
    "        truncated = False\n",
    "        while not (terminated or truncated):\n",
    "            prob = pg.problem(MPC_tuning(prev_obs, horizon))\n",
    "            algo = pg.algorithm(pg.sga(gen=3)) #Simple genetic algorithm\n",
    "            pop = pg.population(prob, size=10)\n",
    "            pop = algo.evolve(pop)           \n",
    "            best_controls = pop.champion_x     #Finding best controls\n",
    "            action = best_controls[0]\n",
    "            \n",
    "            obs, reward, terminated, truncated, _ = env.step([action])\n",
    "            \n",
    "            if len(prev_obs) > 0:\n",
    "                game_memory.append([prev_obs, action])\n",
    "            \n",
    "            theta = np.arctan2(obs[1],obs[0])\n",
    "            omega = obs[2]\n",
    "            obs = [theta,omega]\n",
    "            prev_obs = obs\n",
    "            score += reward                     \n",
    "            \n",
    "        if score > -2: #If the score of a game is sufficiently good - store it\n",
    "            for data in game_memory:\n",
    "                angle = data[0][0]\n",
    "                observations = [np.cos(angle),np.sin(angle), data[0][1]]\n",
    "                actions = data[1]\n",
    "                training_data.append([observations, actions])  \n",
    "        if printing == True:\n",
    "            counter += 1\n",
    "            print(f'Datasets generated: {counter*200}')\n",
    "            print(f\"Score: {score:.4f}\")    \n",
    "    return training_data"
   ]
  },
  {
   "cell_type": "markdown",
   "id": "457df5c1-fdb4-4e10-bfa6-1392091215e8",
   "metadata": {},
   "source": [
    "For convenience a plotting function is created:"
   ]
  },
  {
   "cell_type": "code",
   "execution_count": 8,
   "id": "d294c2d2-ab1e-42d6-b09f-8ef8ac86f68f",
   "metadata": {},
   "outputs": [],
   "source": [
    "def plot_res(observations, controls):\n",
    "    observations = np.array(observations)\n",
    "    plt.figure(figsize=(7, 5))\n",
    "    for i in range(len(observations)):\n",
    "        theta = observations[i,:,0]\n",
    "        angular_velocities = observations[i,:,1]\n",
    "        plt.subplot(3, 1, 1)\n",
    "        plt.plot(theta)\n",
    "        plt.title('Angles')\n",
    "        plt.xlabel('Steps')\n",
    "        plt.ylim([-np.pi, np.pi])\n",
    "        plt.ylabel('Angle')\n",
    "    \n",
    "        plt.subplot(3, 1, 2)\n",
    "        plt.plot(angular_velocities)\n",
    "        plt.title('Angular Velocities')\n",
    "        plt.xlabel('Steps')\n",
    "        plt.ylim([-8, 8])\n",
    "        plt.ylabel('Angular Velocity')\n",
    "    \n",
    "        plt.subplot(3, 1, 3)\n",
    "        plt.plot(controls[i])\n",
    "        plt.title('Controls')\n",
    "        plt.xlabel('Steps')\n",
    "        plt.ylabel('Control')\n",
    "    \n",
    "    plt.tight_layout()\n",
    "    plt.show()"
   ]
  },
  {
   "cell_type": "markdown",
   "id": "18ae1f05-b4ae-4b82-aa8e-0ef524f33f83",
   "metadata": {},
   "source": [
    "A function for rendering the pendulum is created. It needs the initial_conditions fed to a play_game function and the\n",
    "controls the play_game function outputs:"
   ]
  },
  {
   "cell_type": "code",
   "execution_count": 9,
   "id": "ae027aa0-360b-4279-a9e3-c1e2ef4bec62",
   "metadata": {},
   "outputs": [],
   "source": [
    "def rendering(initial_conditions, controls):\n",
    "   # Initialize the environment\n",
    "   env = gym.make('Pendulum-v1', g=9.81, render_mode=\"human\")\n",
    "   state, _ = env.reset()\n",
    "   env.unwrapped.state = initial_conditions\n",
    "   observations = []\n",
    "   terminated = False\n",
    "   truncated = False\n",
    "   # Step through the environment using your controls\n",
    "   while not (terminated or truncated):\n",
    "       for control in controls:\n",
    "           obs, reward, terminated,truncated, info = env.step([control])\n",
    "           observations.append(obs)\n",
    "       env.close()\n",
    "   if truncated:\n",
    "       print('\\nRendering truncated \\n') "
   ]
  },
  {
   "cell_type": "markdown",
   "id": "fbfabef7-316b-45b4-a30f-c3eecc85321a",
   "metadata": {},
   "source": [
    "5 games with a random controller and the MPC controller is played and their average scores computed for comparison:"
   ]
  },
  {
   "cell_type": "code",
   "execution_count": 10,
   "id": "a43c6854-1af9-402c-824a-f9795185ee9f",
   "metadata": {},
   "outputs": [
    {
     "name": "stdout",
     "output_type": "stream",
     "text": [
      "Controller: RANDOM\n",
      "Average Score [RANDOM]: -847.1732\n",
      "\n",
      "Controller: MPC\n",
      "Game no. 1/5 \n",
      "Iteration: 100/200 max\n",
      "Iteration: 200/200 max\n",
      "\n",
      "Game no. 2/5 \n",
      "Iteration: 100/200 max\n",
      "Iteration: 200/200 max\n",
      "\n",
      "Game no. 3/5 \n",
      "Iteration: 100/200 max\n",
      "Iteration: 200/200 max\n",
      "\n",
      "Game no. 4/5 \n",
      "Iteration: 100/200 max\n",
      "Iteration: 200/200 max\n",
      "\n",
      "Game no. 5/5 \n",
      "Iteration: 100/200 max\n",
      "Iteration: 200/200 max\n",
      "\n",
      "Scores from 5 games: \n",
      "[  -0.8055   -1.0298   -0.9919 -128.626    -1.1499] \n",
      "\n",
      "Average Score [MPC]: -26.5206\n",
      "\n"
     ]
    }
   ],
   "source": [
    "num_games = 5\n",
    "observations_rand, controls_rand, total_scores_rand = play_X_games(num_games, 'RANDOM', main_env)\n",
    "\n",
    "observations_mpc, controls_mpc, total_scores_mpc = play_X_games(num_games, 'MPC', main_env, printing = True)"
   ]
  },
  {
   "cell_type": "markdown",
   "id": "be2e21ff-d2d3-4a3b-b620-d7a9813fa0a8",
   "metadata": {},
   "source": [
    "For rendering if desired:"
   ]
  },
  {
   "cell_type": "markdown",
   "id": "449f18c7-971e-4bdc-b280-83972944b9c1",
   "metadata": {},
   "source": [
    "Plotting for 1 game:"
   ]
  },
  {
   "cell_type": "code",
   "execution_count": 11,
   "id": "c4210333-6d83-40f7-b13a-71965f60152e",
   "metadata": {},
   "outputs": [
    {
     "data": {
      "image/png": "[encoded data removed]",
      "text/plain": [
       "<Figure size 700x500 with 3 Axes>"
      ]
     },
     "metadata": {},
     "output_type": "display_data"
    }
   ],
   "source": [
    "plot_res([observations_mpc[0]],[controls_mpc[0]])"
   ]
  },
  {
   "cell_type": "markdown",
   "id": "f0f9be12-8d17-450d-bb25-769e2d616d98",
   "metadata": {},
   "source": [
    "The figure above shows that the MPC controller is able to stabilize the pendulum"
   ]
  },
  {
   "cell_type": "markdown",
   "id": "2e667461-b413-454e-ac08-f8fe20daaee8",
   "metadata": {},
   "source": [
    "For rendering, if desired:"
   ]
  },
  {
   "cell_type": "code",
   "execution_count": 15,
   "id": "e21e888e-6812-45ee-a82e-11c468e5ece6",
   "metadata": {},
   "outputs": [
    {
     "name": "stdout",
     "output_type": "stream",
     "text": [
      "\n",
      "Rendering truncated \n",
      "\n"
     ]
    }
   ],
   "source": [
    "initial_conditions = [np.random.uniform(-20*np.pi/180, 20*np.pi/180), np.random.uniform(-0.1, 0.1)]\n",
    "observations, controls, total_score = play_game(initial_conditions, main_env, 'MPC')\n",
    "rendering(initial_conditions, controls)"
   ]
  },
  {
   "cell_type": "markdown",
   "id": "e44a7bc4-9cb9-45c9-8a95-45e915686c90",
   "metadata": {},
   "source": [
    "## Part 2: Neural Network controller"
   ]
  },
  {
   "cell_type": "markdown",
   "id": "53216e07-ff8f-43bf-9fe9-afbd8c6ff244",
   "metadata": {},
   "source": [
    "In this part, you will train a neural-network based controller based on the optimal control strategy found in Part 1. To this aim you should:\n",
    "1. Create a feedforward neural network that takes the current **observation** ($x$, $y$, $\\omega$) as an input and returns the **control** to be applied to the system. Make sure that the returned value is \"admissible\".\n",
    "2. Generate a training dataset by playing a certain number of games (suggested minimum 100) using the functions implemented in Part 1 and providing as random initial conditions an angle between -20 and 20 degrees and zero angular velocity. Note: this step may be _slow_. Remember to convert the dataset to `torch` tensors with float32 precision.\n",
    "3. **Train** and **select** the network (by exploring different _architectures_ and values for the _hyperparameters_).\n",
    "4. Play 2000 games using the function implemented in Step 1 with the controls given by the \"best\" network. Compute the average total score. **You should get an average score above -2.** Compare the average total score with that of a _random controller_."
   ]
  },
  {
   "cell_type": "markdown",
   "id": "e397b14e-b292-4c1b-81a3-d9a6c0a5f950",
   "metadata": {},
   "source": [
    "Generating training data. The MPC controller is quite good, and for that reason 20 games will be sufficient to generate 2000 sets of observations+actions that have a score above -2:"
   ]
  },
  {
   "cell_type": "code",
   "execution_count": 16,
   "id": "c370423c-ec27-4d07-b5d8-ad6c97f57261",
   "metadata": {},
   "outputs": [
    {
     "name": "stdout",
     "output_type": "stream",
     "text": [
      "Datasets generated: 200\n",
      "Score: -251.6636\n",
      "Datasets generated: 400\n",
      "Score: -0.8446\n",
      "Datasets generated: 600\n",
      "Score: -129.8407\n",
      "Datasets generated: 800\n",
      "Score: -0.9749\n",
      "Datasets generated: 1000\n",
      "Score: -0.9061\n",
      "Datasets generated: 1200\n",
      "Score: -1.3858\n",
      "Datasets generated: 1400\n",
      "Score: -1.0008\n",
      "Datasets generated: 1600\n",
      "Score: -382.9985\n",
      "Datasets generated: 1800\n",
      "Score: -1.1336\n",
      "Datasets generated: 2000\n",
      "Score: -0.7199\n",
      "Datasets generated: 2200\n",
      "Score: -127.4207\n",
      "Datasets generated: 2400\n",
      "Score: -1.0936\n",
      "Datasets generated: 2600\n",
      "Score: -0.9138\n",
      "Datasets generated: 2800\n",
      "Score: -0.6867\n",
      "Datasets generated: 3000\n",
      "Score: -0.7918\n",
      "Datasets generated: 3200\n",
      "Score: -127.8469\n",
      "Datasets generated: 3400\n",
      "Score: -1.3114\n",
      "Datasets generated: 3600\n",
      "Score: -129.1428\n",
      "Datasets generated: 3800\n",
      "Score: -0.7691\n",
      "Datasets generated: 4000\n",
      "Score: -1.0728\n"
     ]
    }
   ],
   "source": [
    "training_data = generate_training_data(20, main_env, printing = True)"
   ]
  },
  {
   "cell_type": "markdown",
   "id": "6dd9ff98-ad41-4379-bdac-e742d720bb4f",
   "metadata": {},
   "source": [
    "Note that there were 5 occurrences in the above with a lower score than -2. These are NOT stored in training_data, but they are still printed if printing is set to true.\n",
    "\n",
    "Next; Initializing the generated data, picking the first 2000 entries, and converting to tensors:"
   ]
  },
  {
   "cell_type": "code",
   "execution_count": 18,
   "id": "d72c5648-fbe7-4a6f-aef5-4d01833d51d6",
   "metadata": {},
   "outputs": [],
   "source": [
    "from sklearn.model_selection import train_test_split\n",
    "X = np.array([entry[0] for entry in training_data[:2000]])\n",
    "y = np.array([entry[1] for entry in training_data[:2000]]).reshape(-1,1)\n",
    "X_train, X_test, y_train, y_test = train_test_split(X, y, test_size=0.2)\n",
    "X_ = torch.tensor(X_train, dtype=torch.float32)\n",
    "y_ = torch.tensor(y_train, dtype=torch.float32)"
   ]
  },
  {
   "cell_type": "code",
   "execution_count": 19,
   "id": "60c72f7a-b1c3-4072-9160-edf9869bda74",
   "metadata": {},
   "outputs": [],
   "source": [
    "#%% Defining the neural network\n",
    "class NN(nn.Module): #Simple network with only 1 hidden layer\n",
    "    def __init__(self,num_units=32):\n",
    "        super().__init__()\n",
    "        self.linear_relu_stack = nn.Sequential(\n",
    "            nn.Linear(3, num_units), #3 for the observations\n",
    "            nn.ReLU(),\n",
    "            nn.Linear(num_units,1),\n",
    "            nn.Tanh()             \n",
    "        )\n",
    "    def forward(self, x):\n",
    "        x = x.to(torch.float32)\n",
    "        y = 2*self.linear_relu_stack(x) #Combined with Tanh it makes sure the bounds of the action goes from -2 to 2\n",
    "        return y "
   ]
  },
  {
   "cell_type": "markdown",
   "id": "20d1f945-ec7b-4117-86ce-7ca9e8e11361",
   "metadata": {},
   "source": [
    "Defining the NeuralNetRegressor model:"
   ]
  },
  {
   "cell_type": "code",
   "execution_count": 20,
   "id": "8ad774db-aaa5-4ee1-8bee-54091a1d3cb2",
   "metadata": {},
   "outputs": [
    {
     "ename": "ModuleNotFoundError",
     "evalue": "No module named 'tabulate'",
     "output_type": "error",
     "traceback": [
      "\u001b[1;31m---------------------------------------------------------------------------\u001b[0m",
      "\u001b[1;31mModuleNotFoundError\u001b[0m                       Traceback (most recent call last)",
      "Cell \u001b[1;32mIn[20], line 4\u001b[0m\n\u001b[0;32m      1\u001b[0m epochs \u001b[38;5;241m=\u001b[39m \u001b[38;5;241m100\u001b[39m\n\u001b[0;32m      2\u001b[0m lr \u001b[38;5;241m=\u001b[39m \u001b[38;5;241m0.01\u001b[39m\n\u001b[1;32m----> 4\u001b[0m \u001b[38;5;28;01mfrom\u001b[39;00m \u001b[38;5;21;01mskorch\u001b[39;00m\u001b[38;5;21;01m.\u001b[39;00m\u001b[38;5;21;01mcallbacks\u001b[39;00m \u001b[38;5;28;01mimport\u001b[39;00m EarlyStopping \u001b[38;5;66;03m#This stops the epochs if validation starts to go up\u001b[39;00m\n\u001b[0;32m      6\u001b[0m model \u001b[38;5;241m=\u001b[39m NeuralNetRegressor(module\u001b[38;5;241m=\u001b[39mNN, lr\u001b[38;5;241m=\u001b[39mlr, verbose\u001b[38;5;241m=\u001b[39m\u001b[38;5;241m0\u001b[39m, iterator_train__shuffle \u001b[38;5;241m=\u001b[39m \u001b[38;5;28;01mTrue\u001b[39;00m,\n\u001b[0;32m      7\u001b[0m                            max_epochs\u001b[38;5;241m=\u001b[39mepochs, module__num_units\u001b[38;5;241m=\u001b[39m\u001b[38;5;241m32\u001b[39m, \n\u001b[0;32m      8\u001b[0m                            callbacks\u001b[38;5;241m=\u001b[39m[(\u001b[38;5;124m'\u001b[39m\u001b[38;5;124mestoper\u001b[39m\u001b[38;5;124m'\u001b[39m,EarlyStopping(patience\u001b[38;5;241m=\u001b[39m\u001b[38;5;241m30\u001b[39m)),])\n",
      "File \u001b[1;32m~\\anaconda3\\envs\\DataScience\\Lib\\site-packages\\skorch\\__init__.py:9\u001b[0m\n\u001b[0;32m      6\u001b[0m \u001b[38;5;28;01mimport\u001b[39;00m \u001b[38;5;21;01mimportlib\u001b[39;00m\u001b[38;5;21;01m.\u001b[39;00m\u001b[38;5;21;01mmetadata\u001b[39;00m\n\u001b[0;32m      8\u001b[0m \u001b[38;5;28;01mfrom\u001b[39;00m \u001b[38;5;21;01m.\u001b[39;00m\u001b[38;5;21;01mhistory\u001b[39;00m \u001b[38;5;28;01mimport\u001b[39;00m History\n\u001b[1;32m----> 9\u001b[0m \u001b[38;5;28;01mfrom\u001b[39;00m \u001b[38;5;21;01m.\u001b[39;00m\u001b[38;5;21;01mnet\u001b[39;00m \u001b[38;5;28;01mimport\u001b[39;00m NeuralNet\n\u001b[0;32m     10\u001b[0m \u001b[38;5;28;01mfrom\u001b[39;00m \u001b[38;5;21;01m.\u001b[39;00m\u001b[38;5;21;01mclassifier\u001b[39;00m \u001b[38;5;28;01mimport\u001b[39;00m NeuralNetClassifier\n\u001b[0;32m     11\u001b[0m \u001b[38;5;28;01mfrom\u001b[39;00m \u001b[38;5;21;01m.\u001b[39;00m\u001b[38;5;21;01mclassifier\u001b[39;00m \u001b[38;5;28;01mimport\u001b[39;00m NeuralNetBinaryClassifier\n",
      "File \u001b[1;32m~\\anaconda3\\envs\\DataScience\\Lib\\site-packages\\skorch\\net.py:24\u001b[0m\n\u001b[0;32m     21\u001b[0m \u001b[38;5;28;01mimport\u001b[39;00m \u001b[38;5;21;01mtorch\u001b[39;00m\n\u001b[0;32m     22\u001b[0m \u001b[38;5;28;01mfrom\u001b[39;00m \u001b[38;5;21;01mtorch\u001b[39;00m\u001b[38;5;21;01m.\u001b[39;00m\u001b[38;5;21;01mutils\u001b[39;00m\u001b[38;5;21;01m.\u001b[39;00m\u001b[38;5;21;01mdata\u001b[39;00m \u001b[38;5;28;01mimport\u001b[39;00m DataLoader\n\u001b[1;32m---> 24\u001b[0m \u001b[38;5;28;01mfrom\u001b[39;00m \u001b[38;5;21;01mskorch\u001b[39;00m\u001b[38;5;21;01m.\u001b[39;00m\u001b[38;5;21;01mcallbacks\u001b[39;00m \u001b[38;5;28;01mimport\u001b[39;00m EpochTimer\n\u001b[0;32m     25\u001b[0m \u001b[38;5;28;01mfrom\u001b[39;00m \u001b[38;5;21;01mskorch\u001b[39;00m\u001b[38;5;21;01m.\u001b[39;00m\u001b[38;5;21;01mcallbacks\u001b[39;00m \u001b[38;5;28;01mimport\u001b[39;00m PrintLog\n\u001b[0;32m     26\u001b[0m \u001b[38;5;28;01mfrom\u001b[39;00m \u001b[38;5;21;01mskorch\u001b[39;00m\u001b[38;5;21;01m.\u001b[39;00m\u001b[38;5;21;01mcallbacks\u001b[39;00m \u001b[38;5;28;01mimport\u001b[39;00m PassthroughScoring\n",
      "File \u001b[1;32m~\\anaconda3\\envs\\DataScience\\Lib\\site-packages\\skorch\\callbacks\\__init__.py:10\u001b[0m\n\u001b[0;32m      7\u001b[0m \u001b[38;5;66;03m# pylint: disable=wildcard-import\u001b[39;00m\n\u001b[0;32m      9\u001b[0m \u001b[38;5;28;01mfrom\u001b[39;00m \u001b[38;5;21;01m.\u001b[39;00m\u001b[38;5;21;01mbase\u001b[39;00m \u001b[38;5;28;01mimport\u001b[39;00m \u001b[38;5;241m*\u001b[39m\n\u001b[1;32m---> 10\u001b[0m \u001b[38;5;28;01mfrom\u001b[39;00m \u001b[38;5;21;01m.\u001b[39;00m\u001b[38;5;21;01mlogging\u001b[39;00m \u001b[38;5;28;01mimport\u001b[39;00m \u001b[38;5;241m*\u001b[39m\n\u001b[0;32m     11\u001b[0m \u001b[38;5;28;01mfrom\u001b[39;00m \u001b[38;5;21;01m.\u001b[39;00m\u001b[38;5;21;01mregularization\u001b[39;00m \u001b[38;5;28;01mimport\u001b[39;00m \u001b[38;5;241m*\u001b[39m\n\u001b[0;32m     12\u001b[0m \u001b[38;5;28;01mfrom\u001b[39;00m \u001b[38;5;21;01m.\u001b[39;00m\u001b[38;5;21;01mscoring\u001b[39;00m \u001b[38;5;28;01mimport\u001b[39;00m \u001b[38;5;241m*\u001b[39m\n",
      "File \u001b[1;32m~\\anaconda3\\envs\\DataScience\\Lib\\site-packages\\skorch\\callbacks\\logging.py:13\u001b[0m\n\u001b[0;32m     11\u001b[0m \u001b[38;5;28;01mimport\u001b[39;00m \u001b[38;5;21;01mnumpy\u001b[39;00m \u001b[38;5;28;01mas\u001b[39;00m \u001b[38;5;21;01mnp\u001b[39;00m\n\u001b[0;32m     12\u001b[0m \u001b[38;5;28;01mimport\u001b[39;00m \u001b[38;5;21;01mtqdm\u001b[39;00m\n\u001b[1;32m---> 13\u001b[0m \u001b[38;5;28;01mfrom\u001b[39;00m \u001b[38;5;21;01mtabulate\u001b[39;00m \u001b[38;5;28;01mimport\u001b[39;00m tabulate\n\u001b[0;32m     15\u001b[0m \u001b[38;5;28;01mfrom\u001b[39;00m \u001b[38;5;21;01mskorch\u001b[39;00m\u001b[38;5;21;01m.\u001b[39;00m\u001b[38;5;21;01mutils\u001b[39;00m \u001b[38;5;28;01mimport\u001b[39;00m Ansi\n\u001b[0;32m     16\u001b[0m \u001b[38;5;28;01mfrom\u001b[39;00m \u001b[38;5;21;01mskorch\u001b[39;00m\u001b[38;5;21;01m.\u001b[39;00m\u001b[38;5;21;01mdataset\u001b[39;00m \u001b[38;5;28;01mimport\u001b[39;00m get_len\n",
      "\u001b[1;31mModuleNotFoundError\u001b[0m: No module named 'tabulate'"
     ]
    }
   ],
   "source": [
    "epochs = 100\n",
    "lr = 0.01\n",
    "\n",
    "from skorch.callbacks import EarlyStopping #This stops the epochs if validation starts to go up\n",
    "\n",
    "model = NeuralNetRegressor(module=NN, lr=lr, verbose=0, iterator_train__shuffle = True,\n",
    "                           max_epochs=epochs, module__num_units=32, \n",
    "                           callbacks=[('estoper',EarlyStopping(patience=30)),])"
   ]
  },
  {
   "cell_type": "markdown",
   "id": "ce50a465-d795-4472-bbc0-c034f1e9ff51",
   "metadata": {},
   "source": [
    "Defining the pipeline:"
   ]
  },
  {
   "cell_type": "code",
   "execution_count": null,
   "id": "faedb170-a02f-48b9-a889-a71cf4cca5b7",
   "metadata": {},
   "outputs": [],
   "source": [
    "pipe = Pipeline([\n",
    "    ('scale',StandardScaler()),\n",
    "    ('model',model),\n",
    "])\n",
    "pipe.fit(X_, y_) #Fitting model using the parameters that was specified in class NN"
   ]
  },
  {
   "cell_type": "markdown",
   "id": "4b165ceb-3061-48cb-ab6a-ec42e038ca0f",
   "metadata": {},
   "source": [
    "Plotting the training and validation loss:"
   ]
  },
  {
   "cell_type": "code",
   "execution_count": null,
   "id": "359ec359-e3e2-445b-a055-b172b807b502",
   "metadata": {},
   "outputs": [],
   "source": [
    "train_loss = pipe['model'].history[:, 'train_loss']\n",
    "valid_loss = pipe['model'].history[:, 'valid_loss']\n",
    "epochs = [i for i in range(1,len(train_loss)+1)]\n",
    "plt.figure()\n",
    "plt.plot(epochs, train_loss, label='training loss')\n",
    "plt.plot(epochs, valid_loss, label='validation loss')\n",
    "plt.title('Pipe: Losses')\n",
    "plt.legend()\n",
    "plt.show()"
   ]
  },
  {
   "cell_type": "markdown",
   "id": "86981279-0f55-4396-8e42-1a9a54563711",
   "metadata": {},
   "source": [
    "Training and validation follow each other nicely in the plot above, however a gridsearch will still be conducted.\n",
    "The gridsearch is used to (in this case) determine the best parameters of num_units and learning rate. This is done to find the architecture of the neural network that leads to the smallest degree of overfitting/underfitting"
   ]
  },
  {
   "cell_type": "code",
   "execution_count": null,
   "id": "c1ec6603-12c8-4d7b-88a6-9ad0fa907b22",
   "metadata": {},
   "outputs": [],
   "source": [
    "params = {\n",
    "    \"model__module__num_units\": [10, 20, 40],\n",
    "    \"model__lr\": [0.001,0.005, 0.01],\n",
    "}\n",
    "gs = GridSearchCV(pipe,params,verbose=0) \n",
    "gs.fit(X_, y_) \n",
    "print(\"\\ngs.best_score_: %0.4f:\" % gs.best_score_)\n",
    "print(gs.best_params_)\n",
    "print()\n",
    "\n",
    "model_info = gs.best_estimator_['model'].history\n",
    "train_loss = model_info[:,'train_loss']\n",
    "valid_loss = model_info[:,'valid_loss']\n",
    "plt.figure()\n",
    "plt.plot(train_loss, label = 'Training Loss')\n",
    "plt.plot(valid_loss, label = 'Validations Loss')\n",
    "plt.title('gs: Losses')\n",
    "plt.legend()"
   ]
  },
  {
   "cell_type": "markdown",
   "id": "0fd63d7a-818c-442e-b553-f58e99fecc7b",
   "metadata": {},
   "source": [
    "As can be seen in the above figure, the gridsearch manages to find some parameters that improves the controller"
   ]
  },
  {
   "cell_type": "markdown",
   "id": "e17e5fc4-ca7f-483c-ab51-414c4367818e",
   "metadata": {},
   "source": [
    "Playing 2000 games with a random controller and the neural network controller to compare their performances."
   ]
  },
  {
   "cell_type": "code",
   "execution_count": null,
   "id": "d45373a8-3874-48de-a692-5bacd8dd9d73",
   "metadata": {},
   "outputs": [],
   "source": [
    "num_games = 2000 \n",
    "obs_rand, controls_rand, scores_rand = play_X_games(num_games, 'RANDOM', main_env)\n",
    "obs_NN, controls_NN, scores_NN = play_X_games(num_games, 'NN', main_env, model=gs)\n",
    "\n",
    "\n",
    "plt.figure()\n",
    "plt.plot(scores_NN, label = 'Neural Network')\n",
    "plt.plot(scores_rand, label = 'Random')\n",
    "plt.xlabel('Game')\n",
    "plt.ylabel('Score')\n",
    "plt.title('Comparison of scores for NN and random controller')\n",
    "plt.legend(loc='center right')"
   ]
  },
  {
   "cell_type": "markdown",
   "id": "353d2095-6861-45b8-8dcf-2f2d13bcfa0e",
   "metadata": {},
   "source": [
    "The neural network controller performs, as expected, very well, with an average score of just -0.4154. Especially compared to the score of the random controls of -891.8858"
   ]
  },
  {
   "cell_type": "markdown",
   "id": "25fce4fa-6a5e-451a-a955-cc54aa2a2331",
   "metadata": {},
   "source": [
    "Plotting 5 games on top:"
   ]
  },
  {
   "cell_type": "code",
   "execution_count": null,
   "id": "a8eac2ee-e70e-4dae-8a2c-b9121e6e5724",
   "metadata": {},
   "outputs": [],
   "source": [
    "plot_res(obs_NN[-5:],controls_NN[-5:])"
   ]
  },
  {
   "cell_type": "markdown",
   "id": "ce03e208-a102-4daa-ab5a-6498a9cdf58a",
   "metadata": {},
   "source": [
    "These figures show that for these 5 NN games the controller is able to stabilize the pendulum"
   ]
  },
  {
   "cell_type": "markdown",
   "id": "776b7d25-9ac1-46eb-987f-a58fb61c55ef",
   "metadata": {},
   "source": [
    "Rendering of a single neural network game, if desired:"
   ]
  },
  {
   "cell_type": "code",
   "execution_count": null,
   "id": "2eb477c8-88e8-44cc-b6c9-4d8023fc4319",
   "metadata": {},
   "outputs": [],
   "source": [
    "initial_conditions = [np.random.uniform(-20*np.pi/180, 20*np.pi/180), np.random.uniform(-0.1, 0.1)]\n",
    "observations, controls, total_score = play_game(initial_conditions, main_env, 'NN', model=gs)\n",
    "rendering(initial_conditions, controls)"
   ]
  },
  {
   "cell_type": "code",
   "execution_count": null,
   "id": "ad534cd3-b38d-4a7d-b784-6f9c2a5d01e6",
   "metadata": {},
   "outputs": [],
   "source": []
  }
 ],
 "metadata": {
  "kernelspec": {
   "display_name": "Python 3 (ipykernel)",
   "language": "python",
   "name": "python3"
  },
  "language_info": {
   "codemirror_mode": {
    "name": "ipython",
    "version": 3
   },
   "file_extension": ".py",
   "mimetype": "text/x-python",
   "name": "python",
   "nbconvert_exporter": "python",
   "pygments_lexer": "ipython3",
   "version": "3.11.3"
  }
 },
 "nbformat": 4,
 "nbformat_minor": 5
}
